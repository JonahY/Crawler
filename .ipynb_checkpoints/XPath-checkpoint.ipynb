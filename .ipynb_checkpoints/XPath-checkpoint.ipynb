{
 "cells": [
  {
   "cell_type": "code",
   "execution_count": 1,
   "metadata": {
    "ExecuteTime": {
     "end_time": "2020-10-26T02:01:38.332974Z",
     "start_time": "2020-10-26T02:01:37.724754Z"
    }
   },
   "outputs": [],
   "source": [
    "from lxml import etree"
   ]
  },
  {
   "cell_type": "markdown",
   "metadata": {},
   "source": [
    "### 直接读取文本文件进行解析"
   ]
  },
  {
   "cell_type": "code",
   "execution_count": 3,
   "metadata": {
    "ExecuteTime": {
     "end_time": "2020-10-26T02:02:26.604941Z",
     "start_time": "2020-10-26T02:02:26.592941Z"
    },
    "scrolled": false
   },
   "outputs": [
    {
     "name": "stdout",
     "output_type": "stream",
     "text": [
      "<!DOCTYPE html PUBLIC \"-//W3C//DTD HTML 4.0 Transitional//EN\" \"http://www.w3.org/TR/REC-html40/loose.dtd\">\n",
      "<html><body><div>&#13;\n",
      "    <ul>&#13;\n",
      "         <li class=\"item-0\"><a href=\"link1.html\">first item</a></li>&#13;\n",
      "         <li class=\"item-1\"><a href=\"link2.html\">second item</a></li>&#13;\n",
      "         <li class=\"item-inactive\"><a href=\"link3.html\">third item</a></li>&#13;\n",
      "         <li class=\"item-1\"><a href=\"link4.html\">fourth item</a></li>&#13;\n",
      "         <li class=\"item-0\"><a href=\"link5.html\">fifth item</a>&#13;\n",
      "     </li></ul>&#13;\n",
      " </div></body></html>\n"
     ]
    }
   ],
   "source": [
    "html = etree.parse('./Xpath.html', etree.HTMLParser())\n",
    "# html = etree.HTML(text)\n",
    "result = etree.tostring(html)\n",
    "print(result.decode('utf-8'))"
   ]
  },
  {
   "cell_type": "markdown",
   "metadata": {},
   "source": [
    "### 一般会用  `//`  开头的 XPath 规则来选取所有符合要求的节点"
   ]
  },
  {
   "cell_type": "code",
   "execution_count": 6,
   "metadata": {
    "ExecuteTime": {
     "end_time": "2020-10-26T02:07:40.470433Z",
     "start_time": "2020-10-26T02:07:40.463403Z"
    }
   },
   "outputs": [
    {
     "name": "stdout",
     "output_type": "stream",
     "text": [
      "[<Element html at 0x20d4836a340>, <Element body at 0x20d48357a00>, <Element div at 0x20d48351cc0>, <Element ul at 0x20d48437ec0>, <Element li at 0x20d48437cc0>, <Element a at 0x20d4846b980>, <Element li at 0x20d4846b700>, <Element a at 0x20d4846b5c0>, <Element li at 0x20d4846b240>, <Element a at 0x20d48437f40>, <Element li at 0x20d4846bb00>, <Element a at 0x20d4846bac0>, <Element li at 0x20d4846ba80>, <Element a at 0x20d4846b540>]\n"
     ]
    }
   ],
   "source": [
    "from lxml import etree\n",
    "html = etree.parse('./Xpath.html', etree.HTMLParser())\n",
    "result = html.xpath('//*')\n",
    "print(result)"
   ]
  },
  {
   "cell_type": "markdown",
   "metadata": {},
   "source": [
    "### 通过 ` / ` 或 ` // ` 即可查找元素的子节点或子孙节点"
   ]
  },
  {
   "cell_type": "code",
   "execution_count": 4,
   "metadata": {
    "ExecuteTime": {
     "end_time": "2020-10-26T02:05:57.689267Z",
     "start_time": "2020-10-26T02:05:57.633269Z"
    }
   },
   "outputs": [
    {
     "name": "stdout",
     "output_type": "stream",
     "text": [
      "[<Element a at 0x20d48357c00>, <Element a at 0x20d48357b00>, <Element a at 0x20d4835a900>, <Element a at 0x20d4835a580>, <Element a at 0x20d4835a680>]\n"
     ]
    }
   ],
   "source": [
    "html = etree.parse('./Xpath.html', etree.HTMLParser())\n",
    "result = html.xpath('//ul//a')\n",
    "print(result)"
   ]
  },
  {
   "cell_type": "markdown",
   "metadata": {},
   "source": [
    "### 通过 `..` 或 `parent::` 即可查找父节点"
   ]
  },
  {
   "cell_type": "code",
   "execution_count": 7,
   "metadata": {
    "ExecuteTime": {
     "end_time": "2020-10-26T02:09:18.674677Z",
     "start_time": "2020-10-26T02:09:18.623678Z"
    }
   },
   "outputs": [
    {
     "name": "stdout",
     "output_type": "stream",
     "text": [
      "['item-1']\n"
     ]
    }
   ],
   "source": [
    "html = etree.parse('./Xpath.html', etree.HTMLParser())\n",
    "result = html.xpath('//a[@href=\"link4.html\"]/../@class')\n",
    "# result = html.xpath('//a[@href=\"link4.html\"]/parent::*/@class')\n",
    "print(result)"
   ]
  },
  {
   "cell_type": "markdown",
   "metadata": {},
   "source": [
    "### 可以用 `@` 符号进行属性过滤"
   ]
  },
  {
   "cell_type": "code",
   "execution_count": 8,
   "metadata": {
    "ExecuteTime": {
     "end_time": "2020-10-26T02:11:39.410058Z",
     "start_time": "2020-10-26T02:11:39.393078Z"
    }
   },
   "outputs": [
    {
     "name": "stdout",
     "output_type": "stream",
     "text": [
      "[<Element li at 0x20d48471380>, <Element li at 0x20d484713c0>]\n"
     ]
    }
   ],
   "source": [
    "html = etree.parse('./Xpath.html', etree.HTMLParser())\n",
    "result = html.xpath('//li[@class=\"item-0\"]')\n",
    "print(result)"
   ]
  },
  {
   "cell_type": "markdown",
   "metadata": {},
   "source": [
    "### 用 XPath 中的 `text()` 方法获取节点中的文本"
   ]
  },
  {
   "cell_type": "code",
   "execution_count": 11,
   "metadata": {
    "ExecuteTime": {
     "end_time": "2020-10-26T02:13:20.767018Z",
     "start_time": "2020-10-26T02:13:20.752991Z"
    }
   },
   "outputs": [
    {
     "name": "stdout",
     "output_type": "stream",
     "text": [
      "['first item', 'fifth item']\n"
     ]
    }
   ],
   "source": [
    "html = etree.parse('./Xpath.html', etree.HTMLParser())\n",
    "result = html.xpath('//li[@class=\"item-0\"]/a/text()')\n",
    "print(result)"
   ]
  },
  {
   "cell_type": "markdown",
   "metadata": {},
   "source": [
    "### 属性获取"
   ]
  },
  {
   "cell_type": "code",
   "execution_count": null,
   "metadata": {},
   "outputs": [],
   "source": [
    "html = etree.parse('./Xpath.html', etree.HTMLParser())\n",
    "result = html.xpath('//li/a/@href')\n",
    "print(result)"
   ]
  },
  {
   "cell_type": "markdown",
   "metadata": {},
   "source": [
    "### 属性多值匹配"
   ]
  },
  {
   "cell_type": "code",
   "execution_count": 12,
   "metadata": {
    "ExecuteTime": {
     "end_time": "2020-10-26T02:18:29.402713Z",
     "start_time": "2020-10-26T02:18:29.362714Z"
    }
   },
   "outputs": [
    {
     "name": "stdout",
     "output_type": "stream",
     "text": [
      "['first item']\n"
     ]
    }
   ],
   "source": [
    "text = '''\n",
    "<li class=\"li li-first\"><a href=\"link.html\">first item</a></li>\n",
    "'''\n",
    "html = etree.HTML(text)\n",
    "result = html.xpath('//li[contains(@class, \"li\")]/a/text()')\n",
    "print(result)"
   ]
  },
  {
   "cell_type": "markdown",
   "metadata": {},
   "source": [
    "### 多属性匹配"
   ]
  },
  {
   "cell_type": "code",
   "execution_count": 13,
   "metadata": {
    "ExecuteTime": {
     "end_time": "2020-10-26T02:18:55.422131Z",
     "start_time": "2020-10-26T02:18:55.410116Z"
    }
   },
   "outputs": [
    {
     "name": "stdout",
     "output_type": "stream",
     "text": [
      "['first item']\n"
     ]
    }
   ],
   "source": [
    "text = '''\n",
    "<li class=\"li li-first\" name=\"item\"><a href=\"link.html\">first item</a></li>\n",
    "'''\n",
    "html = etree.HTML(text)\n",
    "result = html.xpath('//li[contains(@class, \"li\") and @name=\"item\"]/a/text()')\n",
    "print(result)"
   ]
  },
  {
   "cell_type": "markdown",
   "metadata": {},
   "source": [
    "### 按序选择\n",
    "* 第一次选择时，我们选取了第一个 li 节点，中括号中传入数字 1 即可。注意，这里和代码中不同，序号是以 1 开头的，不是以 0 开头。\n",
    "* 第二次选择时，我们选取了最后一个 li 节点，中括号中传入 last() 即可，返回的便是最后一个 li 节点。\n",
    "* 第三次选择时，我们选取了位置小于 3 的 li 节点，也就是位置序号为 1 和 2 的节点，得到的结果就是前两个 li 节点。\n",
    "* 第四次选择时，我们选取了倒数第三个 li 节点，中括号中传入 last()-2 即可。因为 last() 是最后一个，所以 last()-2 就是倒数第三个。"
   ]
  },
  {
   "cell_type": "code",
   "execution_count": 14,
   "metadata": {
    "ExecuteTime": {
     "end_time": "2020-10-26T02:20:15.993668Z",
     "start_time": "2020-10-26T02:20:15.953672Z"
    }
   },
   "outputs": [
    {
     "name": "stdout",
     "output_type": "stream",
     "text": [
      "['first item']\n",
      "['fifth item']\n",
      "['first item', 'second item']\n",
      "['third item']\n"
     ]
    }
   ],
   "source": [
    "html = etree.parse('./Xpath.html', etree.HTMLParser())\n",
    "result = html.xpath('//li[1]/a/text()')\n",
    "print(result)\n",
    "result = html.xpath('//li[last()]/a/text()')\n",
    "print(result)\n",
    "result = html.xpath('//li[position()<3]/a/text()')\n",
    "print(result)\n",
    "result = html.xpath('//li[last()-2]/a/text()')\n",
    "print(result)"
   ]
  },
  {
   "cell_type": "markdown",
   "metadata": {},
   "source": [
    "### 节点轴选择"
   ]
  },
  {
   "cell_type": "code",
   "execution_count": 15,
   "metadata": {
    "ExecuteTime": {
     "end_time": "2020-10-26T02:24:52.167632Z",
     "start_time": "2020-10-26T02:24:52.147631Z"
    }
   },
   "outputs": [
    {
     "name": "stdout",
     "output_type": "stream",
     "text": [
      "[<Element html at 0x20d4835e3c0>, <Element body at 0x20d48471980>, <Element div at 0x20d4835a680>, <Element ul at 0x20d4835a900>]\n",
      "[<Element div at 0x20d4835a680>]\n",
      "['item-0']\n",
      "[<Element a at 0x20d48471980>]\n",
      "[]\n",
      "[<Element a at 0x20d4835a680>]\n",
      "[<Element li at 0x20d4835a5c0>, <Element li at 0x20d4835a900>, <Element li at 0x20d4835a700>, <Element li at 0x20d4835a580>]\n"
     ]
    }
   ],
   "source": [
    "html = etree.parse('./Xpath.html', etree.HTMLParser())\n",
    "result = html.xpath('//li[1]/ancestor::*')\n",
    "print(result)\n",
    "result = html.xpath('//li[1]/ancestor::div')\n",
    "print(result)\n",
    "result = html.xpath('//li[1]/attribute::*')\n",
    "print(result)\n",
    "result = html.xpath('//li[1]/child::a[@href=\"link1.html\"]')\n",
    "print(result)\n",
    "result = html.xpath('//li[1]/descendant::span')\n",
    "print(result)\n",
    "result = html.xpath('//li[1]/following::*[2]')\n",
    "print(result)\n",
    "result = html.xpath('//li[1]/following-sibling::*')\n",
    "print(result)"
   ]
  }
 ],
 "metadata": {
  "kernelspec": {
   "display_name": "Python 3",
   "language": "python",
   "name": "python3"
  },
  "language_info": {
   "codemirror_mode": {
    "name": "ipython",
    "version": 3
   },
   "file_extension": ".py",
   "mimetype": "text/x-python",
   "name": "python",
   "nbconvert_exporter": "python",
   "pygments_lexer": "ipython3",
   "version": "3.8.5"
  }
 },
 "nbformat": 4,
 "nbformat_minor": 4
}
