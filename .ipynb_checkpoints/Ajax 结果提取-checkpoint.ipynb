{
 "cells": [
  {
   "cell_type": "code",
   "execution_count": 1,
   "metadata": {
    "ExecuteTime": {
     "end_time": "2020-10-26T06:59:37.682625Z",
     "start_time": "2020-10-26T06:59:31.449593Z"
    }
   },
   "outputs": [],
   "source": [
    "from urllib.parse import urlencode\n",
    "from pyquery import PyQuery as pq\n",
    "import requests\n",
    "import json"
   ]
  },
  {
   "cell_type": "code",
   "execution_count": 2,
   "metadata": {
    "ExecuteTime": {
     "end_time": "2020-10-26T07:00:22.493433Z",
     "start_time": "2020-10-26T07:00:22.475436Z"
    }
   },
   "outputs": [],
   "source": [
    "def get_page(page):\n",
    "    params = {\n",
    "        'type': 'uid',\n",
    "        'value': '2830678474',\n",
    "        'containerid': '1076032830678474',\n",
    "        'page': page\n",
    "    }\n",
    "    url = base_url + urlencode(params)\n",
    "    try:\n",
    "        response = requests.get(url, headers=headers)\n",
    "        if response.status_code == 200:\n",
    "            return response.json()\n",
    "    except requests.ConnectionError as e:\n",
    "        print('Error', e.args)\n",
    "\n",
    "def parse_page(tmp):\n",
    "    if tmp:\n",
    "        items = tmp.get('data').get('cards')\n",
    "        for item in items:\n",
    "            item = item.get('mblog')\n",
    "            weibo = {}\n",
    "            weibo['id'] = item.get('id')\n",
    "            weibo['text'] = pq(item.get('text')).text()\n",
    "            weibo['attitudes'] = item.get('attitudes_count')\n",
    "            weibo['comments'] = item.get('comments_count')\n",
    "            weibo['reposts'] = item.get('reposts_count')\n",
    "            yield weibo"
   ]
  },
  {
   "cell_type": "code",
   "execution_count": 3,
   "metadata": {
    "ExecuteTime": {
     "end_time": "2020-10-26T07:00:33.817804Z",
     "start_time": "2020-10-26T07:00:25.096850Z"
    }
   },
   "outputs": [],
   "source": [
    "if __name__ == '__main__':\n",
    "    base_url = 'https://m.weibo.cn/api/container/getIndex?'\n",
    "    data = []\n",
    "    headers = {\n",
    "        'Host': 'm.weibo.cn',\n",
    "        'Referer': 'https://m.weibo.cn/u/2830678474',\n",
    "        'User-Agent': 'Mozilla/5.0 (Macintosh; Intel Mac OS X 10_12_3) AppleWebKit/537.36 (KHTML, like Gecko) Chrome/58.0.3029.110 Safari/537.36',\n",
    "        'X-Requested-With': 'XMLHttpRequest',\n",
    "    }\n",
    "    for page in range(1, 11):\n",
    "        tmp = get_page(page)\n",
    "        results = parse_page(tmp)\n",
    "        for result in results:\n",
    "            data.append(result)\n",
    "\n",
    "    with open('Weibo.json', 'w', encoding='utf-8') as file:\n",
    "        file.write(json.dumps(data, indent=2, ensure_ascii=False))"
   ]
  }
 ],
 "metadata": {
  "kernelspec": {
   "display_name": "Python 3",
   "language": "python",
   "name": "python3"
  },
  "language_info": {
   "codemirror_mode": {
    "name": "ipython",
    "version": 3
   },
   "file_extension": ".py",
   "mimetype": "text/x-python",
   "name": "python",
   "nbconvert_exporter": "python",
   "pygments_lexer": "ipython3",
   "version": "3.8.5"
  }
 },
 "nbformat": 4,
 "nbformat_minor": 4
}
